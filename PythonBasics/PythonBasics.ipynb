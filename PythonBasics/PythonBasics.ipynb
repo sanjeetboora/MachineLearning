{
 "cells": [
  {
   "cell_type": "markdown",
   "metadata": {},
   "source": [
    "## Python Basics"
   ]
  },
  {
   "cell_type": "code",
   "execution_count": 58,
   "metadata": {},
   "outputs": [
    {
     "name": "stdout",
     "output_type": "stream",
     "text": [
      "Hello World\n"
     ]
    }
   ],
   "source": [
    "print(\"Hello World\")"
   ]
  },
  {
   "cell_type": "markdown",
   "metadata": {},
   "source": [
    "## Literal constants\n",
    "\n",
    "- Numbers\n",
    "    - Integers\n",
    "    - Floats\n",
    "- Strings\n",
    "    - Single quotes\n",
    "    - Double quotes\n",
    "    - Triple quotes\n",
    "    - Escape sequences (\\n, \\t, \\r)\n",
    "    - Explicit line joining"
   ]
  },
  {
   "cell_type": "markdown",
   "metadata": {},
   "source": [
    "### Data Types\n",
    "\n",
    "Variables can hold values of different types called data types. \n",
    "\n",
    "The basic types:\n",
    "- numbers\n",
    "- strings"
   ]
  },
  {
   "cell_type": "code",
   "execution_count": 5,
   "metadata": {},
   "outputs": [
    {
     "name": "stdout",
     "output_type": "stream",
     "text": [
      "<class 'int'>\n",
      "<class 'float'>\n",
      "<class 'str'>\n",
      "<class 'complex'>\n"
     ]
    }
   ],
   "source": [
    "a = 10\n",
    "print(type(a))\n",
    "b = 10.5\n",
    "print(type(b))\n",
    "c = \"apple\"\n",
    "print(type(c))\n",
    "d = 10 + 4j\n",
    "print(type(d))"
   ]
  },
  {
   "cell_type": "markdown",
   "metadata": {},
   "source": [
    "### Input and Output\n",
    " - return type of an input function is always string\n",
    " - by default print() ends the line by '\\n' but end is optional parameter to print()"
   ]
  },
  {
   "cell_type": "code",
   "execution_count": 8,
   "metadata": {},
   "outputs": [
    {
     "name": "stdout",
     "output_type": "stream",
     "text": [
      "sANJEET\n",
      "sANJEET\n",
      "Hello\n",
      "sANJEET\n",
      "Enter your name sanjeet1\n",
      "Hello sanjeet1\n"
     ]
    }
   ],
   "source": [
    "name = input()\n",
    "print (name)\n",
    "print (\"Hello\")\n",
    "print (name)\n",
    "name1 = input(\"Enter your name \")\n",
    "print (\"Hello\", end=' ')\n",
    "print (name1)"
   ]
  },
  {
   "cell_type": "markdown",
   "metadata": {},
   "source": [
    "### Reading numbers -> Typecasting"
   ]
  },
  {
   "cell_type": "code",
   "execution_count": 21,
   "metadata": {},
   "outputs": [
    {
     "name": "stdout",
     "output_type": "stream",
     "text": [
      "enter a number4\n",
      "4\n",
      "<class 'str'>\n",
      "<class 'int'>\n",
      "16\n",
      "Square of number is 16\n"
     ]
    }
   ],
   "source": [
    "num = input(\"enter a number\")\n",
    "print(num)\n",
    "print(type(num))\n",
    "num = int(num)\n",
    "print(type(num))\n",
    "print(num*num)\n",
    "print(\"Square of number is \"+ str(num*num))\n"
   ]
  },
  {
   "cell_type": "code",
   "execution_count": 20,
   "metadata": {},
   "outputs": [
    {
     "name": "stdout",
     "output_type": "stream",
     "text": [
      "enter a number5.5\n",
      "5.5\n",
      "<class 'float'>\n",
      "166.375\n",
      "Cube of number is 166.375\n"
     ]
    }
   ],
   "source": [
    "num = float(input(\"enter a number\"))\n",
    "print(num)\n",
    "print(type(num))\n",
    "print(num*num*num)\n",
    "print(\"Cube of number is \"+ str(num*num*num))"
   ]
  },
  {
   "cell_type": "markdown",
   "metadata": {},
   "source": [
    "### More about print function\n",
    "  - format\n",
    "  - end and sep"
   ]
  },
  {
   "cell_type": "code",
   "execution_count": 25,
   "metadata": {},
   "outputs": [
    {
     "name": "stdout",
     "output_type": "stream",
     "text": [
      "Hello World I love Python\n",
      "Hello,World,I,love,Python\n",
      "Hello\n",
      "\n",
      "World\n",
      "\n",
      "I\n",
      "\n",
      "love\n",
      "\n",
      "Python\n"
     ]
    }
   ],
   "source": [
    "print(\"Hello\",\"World\",\"I\",\"love\",\"Python\")\n",
    "print(\"Hello\",\"World\",\"I\",\"love\",\"Python\", sep=\",\")\n",
    "print(\"Hello\",\"World\",\"I\",\"love\",\"Python\", sep=\"\\n\\n\")"
   ]
  },
  {
   "cell_type": "code",
   "execution_count": 26,
   "metadata": {},
   "outputs": [
    {
     "name": "stdout",
     "output_type": "stream",
     "text": [
      "10\n",
      "20\n",
      "10,20\n"
     ]
    }
   ],
   "source": [
    "a=10\n",
    "b=20\n",
    "print(a)\n",
    "print(b)\n",
    "print(a, end=\",\")\n",
    "print(b)"
   ]
  },
  {
   "cell_type": "code",
   "execution_count": 27,
   "metadata": {},
   "outputs": [
    {
     "name": "stdout",
     "output_type": "stream",
     "text": [
      "Indians loves Apples\n"
     ]
    }
   ],
   "source": [
    "first = \"Indians\"\n",
    "second = \"Apples\"\n",
    "print(\"{0} loves {1}\".format(first,second))"
   ]
  },
  {
   "cell_type": "code",
   "execution_count": 28,
   "metadata": {},
   "outputs": [
    {
     "name": "stdout",
     "output_type": "stream",
     "text": [
      "you enterd 50 and 100\n"
     ]
    }
   ],
   "source": [
    "x = 50\n",
    "y = 100\n",
    "print(\"you enterd %d and %d\"%(x,y))"
   ]
  },
  {
   "cell_type": "markdown",
   "metadata": {},
   "source": [
    "### Variables, Datatypes and Operators\n",
    "A type of identifier.\n",
    "\n",
    "Rules for naming identifiers:\n",
    "\n",
    "  - The first character of the identifier must be a letter of the alphabet (uppercase ASCII or lowercase ASCII or Unicode character) or an underscore (_).\n",
    "\n",
    "  - The rest of the identifier name can consist of letters (uppercase ASCII or lowercase ASCII or Unicode character), underscores (_) or digits (0-9).\n",
    "\n",
    "  - Identifier names are case-sensitive. For example, myname and myName are not the same. Note the lowercase n in the former and the uppercase N in the latter.\n",
    "\n",
    "Examples of valid identifier names are i, name_2_3.\n",
    "\n",
    "Examples of invalid identifier names are 2things, this is spaced out, my-name and >a1b2_c3."
   ]
  },
  {
   "cell_type": "markdown",
   "metadata": {},
   "source": [
    "## Operators and expressions\n",
    "### Arithmetic Operators\n",
    "\n",
    "| Symbol | Task Performed |\n",
    "|----|---|\n",
    "| +  | Addition |\n",
    "| -  | Subtraction |\n",
    "| /  | division |\n",
    "| %  | mod |\n",
    "| *  | multiplication |\n",
    "| //  | floor division |\n",
    "| **  | to the power of |\n",
    "\n",
    "###  Comparison operators \n",
    "\n",
    "| Symbol | Task Performed |\n",
    "|----|---|\n",
    "| == | True, if it is equal |\n",
    "| !=  | True, if not equal to |\n",
    "| < | less than |\n",
    "| > | greater than |\n",
    "| <=  | less than or equal to |\n",
    "| >=  | greater than or equal to |\n",
    "\n",
    "### Assignment operators\n",
    "\n",
    "#### = , += , -= , &ast;= , /= , %= , &ast;&ast;=\n",
    "\n",
    "### Logical operators\n",
    "not , and , or"
   ]
  },
  {
   "cell_type": "code",
   "execution_count": 34,
   "metadata": {},
   "outputs": [
    {
     "name": "stdout",
     "output_type": "stream",
     "text": [
      "16\n",
      "4\n",
      "60\n",
      "1000000\n",
      "1.6667\n",
      "1\n",
      "4\n"
     ]
    }
   ],
   "source": [
    "a = 10\n",
    "b = 6\n",
    "print(a+b)\n",
    "print(a-b)\n",
    "print(a*b)\n",
    "print(a**b)\n",
    "print(\"%0.4f\"%(a/b))\n",
    "print(a//b)\n",
    "print(a%b)"
   ]
  },
  {
   "cell_type": "markdown",
   "metadata": {},
   "source": [
    "### Multiple Variable Assignment"
   ]
  },
  {
   "cell_type": "code",
   "execution_count": 35,
   "metadata": {},
   "outputs": [
    {
     "name": "stdout",
     "output_type": "stream",
     "text": [
      "10 20 30.34\n"
     ]
    }
   ],
   "source": [
    "a,b,c = 10,20,30.34\n",
    "print(a,b,c)"
   ]
  },
  {
   "cell_type": "markdown",
   "metadata": {},
   "source": [
    "### Whitespaces and Indendation\n",
    "   - Whitespace is important in Python.\n",
    "\n",
    "   - Actually, whitespace at the beginning of the line is important. This is called indentation.\n",
    "\n",
    "   - Leading whitespace (spaces and tabs) at the beginning of the logical line is used to determine the indentation level of the logical line, which in turn is used to determine the grouping of statements.\n",
    "\n",
    "   - This means that statements which go together must have the same indentation. Each such set of statements is called a block\n",
    "\n",
    "### Don't mix tabs and Spaces\n",
    "### Comments are Important for readability of your code"
   ]
  },
  {
   "cell_type": "code",
   "execution_count": 37,
   "metadata": {},
   "outputs": [
    {
     "name": "stdout",
     "output_type": "stream",
     "text": [
      "This is \n",
      "a multiline string \n"
     ]
    }
   ],
   "source": [
    "\n",
    "# This is a single line comment !\n",
    "\n",
    "\"\"\"This is a \n",
    "multiline \n",
    "comment \"\"\"\n",
    "\n",
    "myString = \"\"\"This is \n",
    "a multiline string \"\"\"\n",
    "\n",
    "print(myString)"
   ]
  },
  {
   "cell_type": "markdown",
   "metadata": {},
   "source": [
    "## If Else Blocks"
   ]
  },
  {
   "cell_type": "code",
   "execution_count": 38,
   "metadata": {},
   "outputs": [
    {
     "name": "stdout",
     "output_type": "stream",
     "text": [
      "rainy\n",
      "Lets go for shopping\n"
     ]
    }
   ],
   "source": [
    "weather  = input()\n",
    "\n",
    "if weather==\"Rainy\":\n",
    "    print(\"Don't go outside\")\n",
    "    print(\"It is raining heavilly\")\n",
    "    \n",
    "elif weather==\"Cool\":\n",
    "    print(\"Lets play Cricket\")\n",
    "\n",
    "else:\n",
    "    print(\"Lets go for shopping\")"
   ]
  },
  {
   "cell_type": "markdown",
   "metadata": {},
   "source": [
    "## Loops in Python\n"
   ]
  },
  {
   "cell_type": "markdown",
   "metadata": {},
   "source": [
    "## while\n",
    ">The while statement allows you to repeatedly execute a block of statements as long as a condition is true."
   ]
  },
  {
   "cell_type": "code",
   "execution_count": 39,
   "metadata": {},
   "outputs": [
    {
     "name": "stdout",
     "output_type": "stream",
     "text": [
      "Step 1\n",
      "Step 2\n",
      "Step 3\n",
      "Step 4\n",
      "Step 5\n",
      "Step 6\n",
      "Step 7\n",
      "Step 8\n",
      "Step 9\n",
      "Step 10\n",
      "Loop Finished\n"
     ]
    }
   ],
   "source": [
    "n = 10\n",
    "i = 1\n",
    "\n",
    "while i<=n:\n",
    "    print(\"Step %d\"%i)\n",
    "    i = i + 1\n",
    "\n",
    "print(\"Loop Finished\")"
   ]
  },
  {
   "cell_type": "markdown",
   "metadata": {},
   "source": [
    "## for\n",
    ">The for..in statement is another looping statement which iterates over a sequence of objects i.e. go through each item in a sequence."
   ]
  },
  {
   "cell_type": "code",
   "execution_count": 46,
   "metadata": {},
   "outputs": [
    {
     "name": "stdout",
     "output_type": "stream",
     "text": [
      "1,2,3,4,5,6,7,8,9,\n",
      "1,3,5,7,9,"
     ]
    }
   ],
   "source": [
    "for i in range(1,10):\n",
    "    print(i,end=\",\")\n",
    "print()\n",
    "for i in range(1,10,2):\n",
    "    print(i,end=\",\")"
   ]
  },
  {
   "cell_type": "code",
   "execution_count": 47,
   "metadata": {},
   "outputs": [
    {
     "name": "stdout",
     "output_type": "stream",
     "text": [
      "3628800\n"
     ]
    }
   ],
   "source": [
    "#Factorial of num\n",
    "num = 10\n",
    "ans = 1\n",
    "\n",
    "for i in range(1,num+1):\n",
    "    ans *= i\n",
    "    \n",
    "print(ans)"
   ]
  },
  {
   "cell_type": "markdown",
   "metadata": {},
   "source": [
    "### Loops here"
   ]
  },
  {
   "cell_type": "code",
   "execution_count": 1,
   "metadata": {},
   "outputs": [
    {
     "name": "stdout",
     "output_type": "stream",
     "text": [
      "10,8,6,4,2,"
     ]
    }
   ],
   "source": [
    "#Reverse Loop\n",
    "for i in range(10,1,-2):\n",
    "    print(i,end=',')"
   ]
  },
  {
   "cell_type": "markdown",
   "metadata": {},
   "source": [
    "## Nested loops\n",
    "Yes! Loops can also be nested.\n",
    "\n",
    "Lets make a matrix!"
   ]
  },
  {
   "cell_type": "code",
   "execution_count": 49,
   "metadata": {},
   "outputs": [
    {
     "name": "stdout",
     "output_type": "stream",
     "text": [
      "5 5 5 5 5 \n",
      "5 4 4 4 5 \n",
      "5 4 3 4 5 \n",
      "5 4 4 4 5 \n",
      "5 5 5 5 5 \n"
     ]
    }
   ],
   "source": [
    "# Nested Loop\n",
    "# 5 X 5 Matrix\n",
    "n = 5\n",
    "for x in range(n):\n",
    "    for y in range(n):\n",
    "        print(max(x+1,y+1,n-x,n-y),end=\" \")\n",
    "    print()\n"
   ]
  },
  {
   "cell_type": "code",
   "execution_count": 3,
   "metadata": {},
   "outputs": [
    {
     "name": "stdout",
     "output_type": "stream",
     "text": [
      "[5, 10, 15, 20, 25, 30, 35, 40, 45, 50]\n"
     ]
    }
   ],
   "source": [
    "import pprint\n",
    "# List comprehension\n",
    "a = [ 5*x for x in range(1, 11) ]\n",
    "pprint.pprint(a)"
   ]
  },
  {
   "cell_type": "code",
   "execution_count": 4,
   "metadata": {},
   "outputs": [
    {
     "name": "stdout",
     "output_type": "stream",
     "text": [
      "[[1, 2, 3, 4, 5, 6, 7, 8, 9, 10],\n",
      " [2, 4, 6, 8, 10, 12, 14, 16, 18, 20],\n",
      " [3, 6, 9, 12, 15, 18, 21, 24, 27, 30],\n",
      " [4, 8, 12, 16, 20, 24, 28, 32, 36, 40],\n",
      " [5, 10, 15, 20, 25, 30, 35, 40, 45, 50],\n",
      " [6, 12, 18, 24, 30, 36, 42, 48, 54, 60],\n",
      " [7, 14, 21, 28, 35, 42, 49, 56, 63, 70],\n",
      " [8, 16, 24, 32, 40, 48, 56, 64, 72, 80],\n",
      " [9, 18, 27, 36, 45, 54, 63, 72, 81, 90],\n",
      " [10, 20, 30, 40, 50, 60, 70, 80, 90, 100]]\n"
     ]
    }
   ],
   "source": [
    "# 2d matrix of tables using list comprehension\n",
    "\n",
    "a = [ [ x*y for y in range(1, 11) ] for x in range(1, 11) ]\n",
    "\n",
    "pprint.pprint(a)"
   ]
  },
  {
   "cell_type": "markdown",
   "metadata": {},
   "source": [
    "## Break Continue and Pass Statements"
   ]
  },
  {
   "cell_type": "code",
   "execution_count": 50,
   "metadata": {},
   "outputs": [
    {
     "name": "stdout",
     "output_type": "stream",
     "text": [
      "1\n",
      "2\n",
      "3\n",
      "4\n",
      "6\n",
      "7\n",
      "8\n",
      "9\n",
      "Loop ends\n"
     ]
    }
   ],
   "source": [
    "# use continue statement\n",
    "for i in range(1,10):\n",
    "    if i==5:\n",
    "        continue\n",
    "    print(i)\n",
    "\n",
    "print(\"Loop ends\")"
   ]
  },
  {
   "cell_type": "code",
   "execution_count": 53,
   "metadata": {},
   "outputs": [
    {
     "name": "stdout",
     "output_type": "stream",
     "text": [
      "1,2,3,5,7,11,13,17,19,23,29,31,37,41,43,47,53,59,61,67,71,73,79,83,89,97,"
     ]
    }
   ],
   "source": [
    "# Write a Program which prints all primes number upto N !\n",
    "def isPrime(n):\n",
    "    \n",
    "    for i in range(2,n):\n",
    "        if(n%i==0):\n",
    "            return False\n",
    "        \n",
    "    return True\n",
    "\n",
    "\n",
    "def printPrime(V):\n",
    "    \n",
    "    for i in range(1,V+1):\n",
    "        if(isPrime(i)):\n",
    "            print(i,end=',')\n",
    "            \n",
    "            \n",
    "printPrime(100)"
   ]
  },
  {
   "cell_type": "code",
   "execution_count": 52,
   "metadata": {},
   "outputs": [
    {
     "name": "stdout",
     "output_type": "stream",
     "text": [
      "120\n"
     ]
    }
   ],
   "source": [
    "# Write a Program which prints factorial of a number\n",
    "def factorial(n):\n",
    "    ans = 1\n",
    "    for i in range(1,n+1):\n",
    "        ans *= i\n",
    "    return ans\n",
    "\n",
    "print(factorial(5))"
   ]
  },
  {
   "cell_type": "markdown",
   "metadata": {},
   "source": [
    "## Default Argument Values and Local Global Variables"
   ]
  },
  {
   "cell_type": "code",
   "execution_count": 54,
   "metadata": {},
   "outputs": [
    {
     "name": "stdout",
     "output_type": "stream",
     "text": [
      "I Love JavaScript\n",
      "I Love Python\n",
      "C++\n"
     ]
    }
   ],
   "source": [
    "\n",
    "lang = \"C++\"\n",
    "def say(x=\"Python\"):\n",
    "    print(\"I Love \" +x)\n",
    "    \n",
    "say(\"JavaScript\")\n",
    "say()\n",
    "print(lang)"
   ]
  },
  {
   "cell_type": "markdown",
   "metadata": {},
   "source": [
    "### Recursive Function"
   ]
  },
  {
   "cell_type": "code",
   "execution_count": 55,
   "metadata": {},
   "outputs": [
    {
     "name": "stdout",
     "output_type": "stream",
     "text": [
      "720\n"
     ]
    }
   ],
   "source": [
    "def fact(n):\n",
    "    #Base Case\n",
    "    if(n==0):\n",
    "        return 1\n",
    "    #Rec Case\n",
    "    return n*fact(n-1)\n",
    "\n",
    "print(fact(6))"
   ]
  },
  {
   "cell_type": "markdown",
   "metadata": {},
   "source": [
    "### Keywords Arguments"
   ]
  },
  {
   "cell_type": "code",
   "execution_count": 57,
   "metadata": {},
   "outputs": [
    {
     "name": "stdout",
     "output_type": "stream",
     "text": [
      "I scored 10 in Python\n",
      "1010\n"
     ]
    }
   ],
   "source": [
    "def myFunc(score,lang,rollNo):\n",
    "    print(\"I scored %d in %s\"%(score,lang))\n",
    "    print(rollNo)\n",
    "    \n",
    "    \n",
    "myFunc(rollNo=1010,lang=\"Python\",score=10)"
   ]
  },
  {
   "cell_type": "code",
   "execution_count": null,
   "metadata": {},
   "outputs": [],
   "source": []
  }
 ],
 "metadata": {
  "kernelspec": {
   "display_name": "Python 3",
   "language": "python",
   "name": "python3"
  },
  "language_info": {
   "codemirror_mode": {
    "name": "ipython",
    "version": 3
   },
   "file_extension": ".py",
   "mimetype": "text/x-python",
   "name": "python",
   "nbconvert_exporter": "python",
   "pygments_lexer": "ipython3",
   "version": "3.6.6"
  }
 },
 "nbformat": 4,
 "nbformat_minor": 2
}
