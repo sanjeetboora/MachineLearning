{
 "cells": [
  {
   "cell_type": "markdown",
   "metadata": {},
   "source": [
    "# Modules\n",
    "\n",
    "You have seen how you can reuse code in your program by defining functions once. What if you wanted to reuse a number of functions in other programs that you write? As you might have guessed, the answer is modules.\n",
    "\n",
    "There are various methods of writing modules, but the simplest way is to create a file with a .py extension that contains functions and variables.\n",
    "\n",
    "A module can be imported by another program to make use of its functionality. This is how we can use the Python standard library as well. First, we will see how to use the standard library modules."
   ]
  },
  {
   "cell_type": "code",
   "execution_count": 8,
   "metadata": {},
   "outputs": [
    {
     "name": "stdout",
     "output_type": "stream",
     "text": [
      "120\n",
      "7\n",
      "6\n",
      "1.0\n",
      "3.141592653589793\n",
      "inf\n",
      "-inf\n",
      "5\n"
     ]
    }
   ],
   "source": [
    "import math\n",
    "print(math.factorial(5))\n",
    "print(math.floor(15/2))\n",
    "print(math.gcd(12,6))\n",
    "\n",
    "print(math.log(math.e))\n",
    "\n",
    "print(math.pi)\n",
    "print(math.inf)\n",
    "print(-math.inf)\n",
    "print(max([1,2,3,4,5,0]))\n"
   ]
  },
  {
   "cell_type": "code",
   "execution_count": 9,
   "metadata": {},
   "outputs": [
    {
     "name": "stdout",
     "output_type": "stream",
     "text": [
      "120\n"
     ]
    }
   ],
   "source": [
    "from math import factorial \n",
    "print(factorial(5))"
   ]
  },
  {
   "cell_type": "code",
   "execution_count": 10,
   "metadata": {},
   "outputs": [
    {
     "name": "stdout",
     "output_type": "stream",
     "text": [
      "120\n"
     ]
    }
   ],
   "source": [
    "from math import factorial as fact\n",
    "print(fact(5))"
   ]
  },
  {
   "cell_type": "markdown",
   "metadata": {},
   "source": [
    "## sys Module\n",
    "\n",
    "  - argv -> list of commandline arguments\n",
    "  - version -> details about python version which you are using\n",
    "  - path -> interpreter will look for packages in these paths\n",
    "  - stdin -> file object for standard input\n",
    "  - stdout -> file object for standard output\n",
    "  \n",
    " Directly executing module's `__name__` is `__main__`"
   ]
  },
  {
   "cell_type": "code",
   "execution_count": 11,
   "metadata": {},
   "outputs": [],
   "source": [
    "import sys\n"
   ]
  },
  {
   "cell_type": "code",
   "execution_count": null,
   "metadata": {},
   "outputs": [],
   "source": []
  }
 ],
 "metadata": {
  "kernelspec": {
   "display_name": "Python 3",
   "language": "python",
   "name": "python3"
  },
  "language_info": {
   "codemirror_mode": {
    "name": "ipython",
    "version": 3
   },
   "file_extension": ".py",
   "mimetype": "text/x-python",
   "name": "python",
   "nbconvert_exporter": "python",
   "pygments_lexer": "ipython3",
   "version": "3.6.6"
  }
 },
 "nbformat": 4,
 "nbformat_minor": 2
}
